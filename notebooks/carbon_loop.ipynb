{
 "cells": [
  {
   "cell_type": "code",
   "execution_count": null,
   "metadata": {},
   "outputs": [],
   "source": [
    "# analysis.py\n",
    "from cmath import exp\n",
    "import pandas as pd\n",
    "import numpy as np\n",
    "from scipy.optimize import curve_fit\n",
    "import matplotlib as mpl\n",
    "import matplotlib.pyplot as plt\n",
    "import os\n",
    "import json\n",
    "from pathlib import Path\n",
    "\n",
    "#  Chapman-Richards function looks like this:\n",
    "# b0(1-EXP(-b2Age))^b2 \n",
    "def chapman_richards(age:float, b0:float, b1:float, b2:float):\n",
    "    return (b0 * (1 - np.exp(-b1*age))) ** b2\n",
    "\n",
    "# Loop through csv's generated from carbon curves and fit the chapman\n",
    "# richards function to each set of data.\n",
    "# The name and paramters are then added to a json like dictionary which\n",
    "# can be saved in the next cell.\n",
    "directory = r'..\\carbon-images\\tables'\n",
    "files = Path(directory).glob('*.csv')\n",
    "outjson = {}\n",
    "for file in files:\n",
    "    df = pd.read_csv(file,header=None)\n",
    "    title = str(file).split('\\\\')[-1].split('.')[-2].replace('-',' ').title()\n",
    "\n",
    "    x_dummy = df[0]\n",
    "    y_dummy = df[1]\n",
    "    pars, cov = curve_fit(f=chapman_richards, maxfev=10000, xdata=x_dummy, ydata=y_dummy, p0=[83, 0.5, 4], bounds=(-np.inf, np.inf))\n",
    "\n",
    "    \n",
    "    print('pars',pars,' cov', cov)\n",
    "\n",
    "    # Edit the font, font size, and axes width\n",
    "    plt.rcParams['font.size'] = 18\n",
    "    plt.rcParams['axes.linewidth'] = 2\n",
    "\n",
    "    # Create figure object and store it in a variable called 'fig'\n",
    "    fig = plt.figure(figsize=(5, 5))\n",
    "\n",
    "    # Add axes object to our figure that takes up entire figure\n",
    "    ax = fig.add_axes([0, 0, 1, 1])\n",
    "\n",
    "\n",
    "    # Plot the noisy exponential data\n",
    "    ax.scatter(x_dummy, y_dummy, s=20, color='#00b3b3', label='Data')\n",
    "\n",
    "    # Add the x and y-axis labels\n",
    "    ax.set_xlabel('stand age', labelpad=10)\n",
    "    ax.set_ylabel('AGB', labelpad=10)\n",
    "\n",
    "    # Set the axis limits\n",
    "    ax.set_xlim(min(x_dummy), max(x_dummy)+10)\n",
    "    ax.set_ylim(min(y_dummy), max(y_dummy)+10)\n",
    "\n",
    "    #plt.savefig('dummy_dataset_exponential.png', dpi=100, bbox_inches='tight')\n",
    "    plt.title(title)\n",
    "    plt.show()\n",
    "\n",
    "    # Edit the font, font size, and axes width\n",
    "    # mpl.rcParams['font.family'] = 'Avenir'\n",
    "    plt.rcParams['font.size'] = 18\n",
    "    plt.rcParams['axes.linewidth'] = 2\n",
    "\n",
    "    # Create figure object and store it in a variable called 'fig'\n",
    "    fig = plt.figure(figsize=(5, 5))\n",
    "\n",
    "    # Add axes object to our figure that takes up entire figure\n",
    "    ax = fig.add_axes([0, 0, 1, 1])\n",
    "\n",
    "\n",
    "    # Plot the noisy exponential data\n",
    "    ax.scatter(x_dummy, y_dummy, s=20, color='#00b3b3', label='Data')\n",
    "    ax.plot(x_dummy, chapman_richards(x_dummy, *pars), linestyle='--', linewidth=2, color='black')\n",
    "\n",
    "    # Add the x and y-axis labels\n",
    "    ax.set_xlabel('Stand Age', labelpad=10)\n",
    "    ax.set_ylabel('AGB', labelpad=10)\n",
    "\n",
    "    # Set the axis limits\n",
    "    ax.set_xlim(min(x_dummy), max(x_dummy)+10)\n",
    "    ax.set_ylim(min(y_dummy), max(y_dummy)+10)\n",
    "    plt.title(title)\n",
    "    plt.show()\n",
    "    \n",
    "    #format json\n",
    "    #\"natural_asia_humid\": {\n",
    "    #   \"name\": \"Natural Asia Humid\",\n",
    "    #   \"parameters\": (22.20201292, 0.08282659, 1.65756327),\n",
    "    #}\n",
    "    outjson[title.lower().replace(' ','_')] = {\"name\":title,\"parameters\":tuple(pars) }\n",
    "\n"
   ]
  },
  {
   "cell_type": "markdown",
   "metadata": {},
   "source": [
    "Optionally save the json. "
   ]
  },
  {
   "cell_type": "code",
   "execution_count": null,
   "metadata": {},
   "outputs": [],
   "source": [
    "with open('carbon.json', 'w', encoding='utf-8') as f:\n",
    "    json.dump(outjson, f, ensure_ascii=False, indent=4)\n"
   ]
  },
  {
   "cell_type": "markdown",
   "metadata": {},
   "source": [
    "Test the function provides an expected output for a growth curve."
   ]
  },
  {
   "cell_type": "code",
   "execution_count": null,
   "metadata": {},
   "outputs": [],
   "source": [
    "params = [6.952180603672807, 0.07708632118229979, 2.155374937783795]\n",
    "biomass = chapman_richards(100, params[0], params[1], params[2])\n",
    "\t\n",
    "# This will report metric tonnes of carbon per ha (NOT CO2e)\n",
    "biomass"
   ]
  }
 ],
 "metadata": {
  "kernelspec": {
   "display_name": "Python 3 (ipykernel)",
   "language": "python",
   "name": "python3"
  },
  "language_info": {
   "codemirror_mode": {
    "name": "ipython",
    "version": 3
   },
   "file_extension": ".py",
   "mimetype": "text/x-python",
   "name": "python",
   "nbconvert_exporter": "python",
   "pygments_lexer": "ipython3",
   "version": "3.8.13"
  }
 },
 "nbformat": 4,
 "nbformat_minor": 4
}
