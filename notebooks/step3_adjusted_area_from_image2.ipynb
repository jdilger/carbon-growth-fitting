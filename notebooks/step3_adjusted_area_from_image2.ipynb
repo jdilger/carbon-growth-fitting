{
 "cells": [
  {
   "cell_type": "markdown",
   "id": "ef30caa5-70cc-42d0-9a66-bedcc24e5a2f",
   "metadata": {},
   "source": [
    "# se.plan calculating areas adjusted by restoration potential\n",
    "\n",
    "\n",
    "1. Load a previous se.plan suitability raster\n",
    "2. Add a new AOI that would be larger than typically usable in the se.plan GUI\n",
    "3. Calculate the adjusted area \n",
    "4. Export the new recipe to a GEE asset and export our statistics to Google Drive as a CSV\n",
    "\n"
   ]
  },
  {
   "cell_type": "markdown",
   "id": "7cb0ecf1-4b67-4390-99f9-4abfc48fe344",
   "metadata": {
    "tags": []
   },
   "source": [
    "### Step 1 - Load a previous se.plan data\n",
    "\n"
   ]
  },
  {
   "cell_type": "code",
   "execution_count": 3,
   "id": "bf4bafd3-d881-4801-ad4d-5503c22a8830",
   "metadata": {},
   "outputs": [],
   "source": [
    "# import libaraies needed  and initialize to GEE.\n",
    "# from component import scripts\n",
    "import ee\n",
    "import json\n",
    "import pandas as pd\n",
    "#import geemap\n",
    "ee.Initialize()"
   ]
  },
  {
   "cell_type": "code",
   "execution_count": 2,
   "id": "e25abef8-0dbb-4f3d-b525-d3df1ad4b976",
   "metadata": {},
   "outputs": [],
   "source": [
    "#path = '/home/amahon/module_results/se.plan/KHM/recipe_2022-09-12_equalweight.json'\n",
    "#recipe_name = 'equalweight'\n",
    "#with open(path, 'r') as f:\n",
    "#  recipe = json.load(f)\n",
    "\n",
    "# get priorities and constraints AS STRINGS\n",
    "# wlc function expects this\n",
    "#priorities = recipe['question_model']['priorities']\n",
    "#constraints = recipe['question_model']['constraints']\n",
    "#layer_list = recipe['layer_model']['layer_list']\n",
    "\n",
    "#print('wlc priorities input type should be a string :',type(priorities))\n",
    "#print('wlc constraints input type should be a string :',type(constraints))\n",
    "#print('layer_list should be a list :',type(layer_list))"
   ]
  },
  {
   "cell_type": "code",
   "execution_count": 4,
   "id": "36bbf91a-4d7c-43d7-bc34-0808ac3a860e",
   "metadata": {},
   "outputs": [],
   "source": [
    "wlc_asset = ee.Image(\"projects/ee-amcmahon/assets/seplan-test_recipe_2022-09-12_equalweight\")"
   ]
  },
  {
   "cell_type": "code",
   "execution_count": 5,
   "id": "0feaaec1-8976-46a2-ad9c-a4fc74a02496",
   "metadata": {},
   "outputs": [],
   "source": [
    "#add layer with tree fraction\n",
    "tree_fraction = ee.Image('projects/john-ee-282116/assets/fao-restoration/staging/restoration_potential_gt_treecoverfrac_mask_urban_diff')"
   ]
  },
  {
   "cell_type": "markdown",
   "id": "937c6dde-0816-49eb-908d-d370696f8339",
   "metadata": {},
   "source": [
    "### Step 2 - Add a new AOI\n"
   ]
  },
  {
   "cell_type": "code",
   "execution_count": 6,
   "id": "00172602-a364-4def-8bb7-7d4ab73ea2fd",
   "metadata": {
    "tags": []
   },
   "outputs": [],
   "source": [
    "aoi = ee.FeatureCollection('projects/ee-amcmahon/assets/seplan/RAP_aoi_union')\n",
    "\n",
    "fao = ee.FeatureCollection(\"FAO/GAUL/2015/level0\")\n",
    "country_list = ee.List(['Afghanistan', 'Bangladesh', 'Bhutan', 'Cambodia', 'Fiji', 'India', 'Indonesia', 'Malaysia', 'Mongolia', 'Myanmar', 'Nepal', \"Lao People's Democratic Republic\", 'Pakistan', 'Papua New Guinea','Philippines', 'Solomon Islands', 'Sri Lanka', 'Thailand', 'Timor-Leste', 'Vanuatu', 'Viet Nam'])\n",
    "#removed countries: \n",
    "#'Samoa' - no aboveground biomass layer\n",
    "\n",
    "sub_aois = fao.filter(ee.Filter.inList(\"ADM0_NAME\", country_list))"
   ]
  },
  {
   "cell_type": "code",
   "execution_count": 7,
   "id": "c8360ef2-4826-42be-8d2e-28d46c294ce7",
   "metadata": {},
   "outputs": [
    {
     "data": {
      "text/plain": [
       "(<ee.image.Image at 0x2557f493b80>, [], [], [])"
      ]
     },
     "execution_count": 7,
     "metadata": {},
     "output_type": "execute_result"
    }
   ],
   "source": [
    "# jjd test\n",
    "wlc_adj = wlc_asset.multiply(tree_fraction)\n",
    "wlc = wlc_adj, [], [], []\n",
    "dashboard_data = scripts.get_summary_statistics(wlc, 'mekong-test', aoi, [], False)"
   ]
  },
  {
   "cell_type": "markdown",
   "id": "d83296a8-6599-4168-bb08-2910fc417ed2",
   "metadata": {},
   "source": [
    "### Step 3: calculate area adjusted by tree fraction"
   ]
  },
  {
   "cell_type": "code",
   "execution_count": 13,
   "id": "3dbc0560-3a3f-4801-8224-0a65d9552e9e",
   "metadata": {},
   "outputs": [],
   "source": [
    "def get_sub_aois_adjusted_areas(sub_aois:ee.FeatureCollection, ids:list, ids_col:str, wlc_image:ee.Image):\n",
    "\n",
    "    def get_sub_stats(sub_id):\n",
    "        geom = sub_aois.filter(ee.Filter.eq(ids_col,sub_id)).first().geometry()\n",
    "        image = wlc_image.clip(geom)\n",
    "        image = image.rename(\"image\").round()\n",
    "\n",
    "        pixelArea = ee.Image.pixelArea().divide(10000)\n",
    "        pixelArea = pixelArea.multiply(tree_fraction)\n",
    "\n",
    "        reducer = ee.Reducer.sum().group(1, \"image\")\n",
    "\n",
    "        areas = (\n",
    "            pixelArea.addBands(image)\n",
    "            .reduceRegion(reducer=reducer, geometry=sub_aois, scale=100, maxPixels=1e12)\n",
    "            .get(\"groups\")\n",
    "        )\n",
    "\n",
    "        areas_list = ee.List(areas).map(lambda i: ee.Dictionary(i).get(\"sum\"))\n",
    "\n",
    "        featureCollection = ee.FeatureCollection(areas_list)\n",
    "\n",
    "        \n",
    "        return (sub_id, featureCollection)\n",
    "    \n",
    "    return [get_sub_stats(sub_id) for sub_id in ids]"
   ]
  },
  {
   "cell_type": "code",
   "execution_count": 14,
   "id": "278370a3-9f53-45c3-80a6-4350bd6076e1",
   "metadata": {},
   "outputs": [
    {
     "data": {
      "text/plain": [
       "[('Mongolia', <ee.featurecollection.FeatureCollection at 0x7f51beb79e80>),\n",
       " ('Myanmar', <ee.featurecollection.FeatureCollection at 0x7f51beb7f6d0>),\n",
       " ('Cambodia', <ee.featurecollection.FeatureCollection at 0x7f51beb771f0>),\n",
       " ('Viet Nam', <ee.featurecollection.FeatureCollection at 0x7f51beb79730>),\n",
       " (\"Lao People's Democratic Republic\",\n",
       "  <ee.featurecollection.FeatureCollection at 0x7f51beb9f040>),\n",
       " ('Malaysia', <ee.featurecollection.FeatureCollection at 0x7f51beb9fd00>),\n",
       " ('Thailand', <ee.featurecollection.FeatureCollection at 0x7f51beb61a00>),\n",
       " ('Philippines', <ee.featurecollection.FeatureCollection at 0x7f51be9b3700>),\n",
       " ('Indonesia', <ee.featurecollection.FeatureCollection at 0x7f51be9d5400>),\n",
       " ('Timor-Leste', <ee.featurecollection.FeatureCollection at 0x7f51be9d8190>),\n",
       " ('Nepal', <ee.featurecollection.FeatureCollection at 0x7f51be9d8ee0>),\n",
       " ('Pakistan', <ee.featurecollection.FeatureCollection at 0x7f51be9d1940>),\n",
       " ('India', <ee.featurecollection.FeatureCollection at 0x7f51be9cd640>),\n",
       " ('Sri Lanka', <ee.featurecollection.FeatureCollection at 0x7f51be9dc340>),\n",
       " ('Bhutan', <ee.featurecollection.FeatureCollection at 0x7f51be9c3040>),\n",
       " ('Bangladesh', <ee.featurecollection.FeatureCollection at 0x7f51be9c3d30>),\n",
       " ('Afghanistan', <ee.featurecollection.FeatureCollection at 0x7f51be9b6ac0>),\n",
       " ('Papua New Guinea',\n",
       "  <ee.featurecollection.FeatureCollection at 0x7f51be9d1b80>),\n",
       " ('Vanuatu', <ee.featurecollection.FeatureCollection at 0x7f51be9b82b0>),\n",
       " ('Solomon Islands',\n",
       "  <ee.featurecollection.FeatureCollection at 0x7f51be9b8f70>),\n",
       " ('Fiji', <ee.featurecollection.FeatureCollection at 0x7f51be9acc70>)]"
      ]
     },
     "execution_count": 14,
     "metadata": {},
     "output_type": "execute_result"
    }
   ],
   "source": [
    "# print(sub_aois.first().toDictionary().getInfo())\n",
    "sub_id_col = 'ADM0_NAME'\n",
    "sub_ids = sub_aois.aggregate_array(sub_id_col).getInfo()\n",
    "\n",
    "adjusted_area_data_sub_aois = get_sub_aois_adjusted_areas(sub_aois= sub_aois, ids=sub_ids, ids_col=sub_id_col, wlc_image=wlc_asset)\n",
    "#adjusted_area_data_sub_aois.append( ('RAP_aoi_union',dashboard_data) )\n",
    "adjusted_area_data_sub_aois"
   ]
  },
  {
   "cell_type": "markdown",
   "id": "a3d95219-62ca-445f-aa93-8aa286edae53",
   "metadata": {},
   "source": [
    "### Step 4 - exporting "
   ]
  },
  {
   "cell_type": "code",
   "execution_count": null,
   "id": "0f2684d3-b563-4645-b8e4-c01a78372e6f",
   "metadata": {},
   "outputs": [],
   "source": []
  },
  {
   "cell_type": "code",
   "execution_count": 18,
   "id": "154d1b93-4ccf-4943-a944-e0332c381562",
   "metadata": {},
   "outputs": [],
   "source": [
    "for name, eedict in adjusted_area_data_sub_aois:\n",
    "    name = name.replace(\" \",\"_\").replace(\"'\",\"\")\n",
    "    fc = scripts.dashboard_data_to_fc(eedict)\n",
    "    ee.batch.Export.table.toDrive(\n",
    "        collection=fc,\n",
    "        description=name,\n",
    "        folder='test',\n",
    "        fileFormat='csv',\n",
    "        selectors='category,name,type,value'\n",
    "    ).start()\n"
   ]
  },
  {
   "cell_type": "code",
   "execution_count": 9,
   "id": "26065a76-fca1-431a-a765-8e2e0b793419",
   "metadata": {},
   "outputs": [],
   "source": [
    "#ee.batch.Export.image.toAsset(\n",
    "#    image = output,\n",
    "#    description = 'rap-aoi-c-elevation3500',\n",
    "#    assetId = 'projects/ee-amcmahon/assets/seplan-test_recipe_2022-09-06_c-elevation3500',\n",
    "#    region = aoi.geometry(),\n",
    "#    scale = 30,\n",
    "#    maxPixels = 1e13\n",
    "#).start()"
   ]
  }
 ],
 "metadata": {
  "kernelspec": {
   "display_name": "Python 3 (ipykernel)",
   "language": "python",
   "name": "python3"
  },
  "language_info": {
   "codemirror_mode": {
    "name": "ipython",
    "version": 3
   },
   "file_extension": ".py",
   "mimetype": "text/x-python",
   "name": "python",
   "nbconvert_exporter": "python",
   "pygments_lexer": "ipython3",
   "version": "3.8.13"
  }
 },
 "nbformat": 4,
 "nbformat_minor": 5
}
