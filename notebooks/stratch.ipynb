{
 "cells": [
  {
   "cell_type": "markdown",
   "metadata": {},
   "source": [
    "Load required componets and earthengine\n",
    "\n",
    "**this was tested at the root dir of se.plan**"
   ]
  },
  {
   "cell_type": "code",
   "execution_count": null,
   "metadata": {},
   "outputs": [],
   "source": [
    "from component import model\n",
    "from component import scripts\n",
    "import ee\n",
    "ee.Initialize()"
   ]
  },
  {
   "cell_type": "markdown",
   "metadata": {},
   "source": [
    "Example loading a previous recipe to run se.plan without ui"
   ]
  },
  {
   "cell_type": "code",
   "execution_count": 2,
   "metadata": {},
   "outputs": [
    {
     "data": {
      "text/plain": [
       "dict_keys(['aoi_model', 'layer_model', 'question_model'])"
      ]
     },
     "execution_count": 2,
     "metadata": {},
     "output_type": "execute_result"
    }
   ],
   "source": [
    "\n",
    "import json\n",
    "path = '/home/jdilger/module_results/se.plan/SLV/recipe_2022-05-23.json'\n",
    "with open(path, 'r') as f:\n",
    "  data = json.load(f)\n",
    "\n",
    "data.keys()"
   ]
  },
  {
   "cell_type": "code",
   "execution_count": 17,
   "metadata": {},
   "outputs": [
    {
     "name": "stdout",
     "output_type": "stream",
     "text": [
      "wlc priorities input type should be a string <class 'str'>\n",
      "wlc constraints input type should be a string <class 'str'>\n"
     ]
    }
   ],
   "source": [
    "# get priorities and constraints AS STRINGS\n",
    "# wlc function expects this\n",
    "priorities = data['question_model']['priorities']\n",
    "constraints = data['question_model']['constraints']\n",
    "print('wlc priorities input type should be a string :',type(priorities))\n",
    "print('wlc constraints input type should be a string :',type(constraints))"
   ]
  },
  {
   "cell_type": "code",
   "execution_count": 5,
   "metadata": {},
   "outputs": [],
   "source": [
    "# todo, code simple way to pull aoi from recipe. using gee for now\n",
    "table = ee.FeatureCollection(\"FAO/GAUL/2015/level0\")\n",
    "geometry = ee.Geometry.Point([-89.1355, 13.6937])\n",
    "aoi = table.filterBounds(geometry)\n"
   ]
  },
  {
   "cell_type": "markdown",
   "metadata": {},
   "source": [
    "Use the se.plan base model to load the default layer list\n",
    "or\n",
    "use layerlist from recipe (this is the best to use if custom layers have been added).\n"
   ]
  },
  {
   "cell_type": "code",
   "execution_count": 25,
   "metadata": {},
   "outputs": [
    {
     "data": {
      "text/plain": [
       "list"
      ]
     },
     "execution_count": 25,
     "metadata": {},
     "output_type": "execute_result"
    }
   ],
   "source": [
    "base_layers_model = model.CustomizeLayerModel()\n",
    "layer_list = base_layers_model.layer_list\n",
    "type(layer_list)\n",
    "type(data['layer_model']['layer_list'])"
   ]
  },
  {
   "cell_type": "code",
   "execution_count": 13,
   "metadata": {},
   "outputs": [],
   "source": [
    "# wlc returns wlc_out, benefit_list, constraint_list, cost_list\n",
    "wlc = scripts.wlc(layer_list, constraints, priorities, aoi)\n",
    "output = wlc[0]"
   ]
  },
  {
   "cell_type": "code",
   "execution_count": 8,
   "metadata": {},
   "outputs": [],
   "source": [
    "import geemap\n",
    "Map = geemap.Map()"
   ]
  },
  {
   "cell_type": "code",
   "execution_count": 9,
   "metadata": {},
   "outputs": [
    {
     "data": {
      "application/vnd.jupyter.widget-view+json": {
       "model_id": "e2e2951d7f0d42f8850852d68eed10f1",
       "version_major": 2,
       "version_minor": 0
      },
      "text/plain": [
       "Map(center=[40, -100], controls=(WidgetControl(options=['position'], widget=HBox(children=(ToggleButton(value=…"
      ]
     },
     "metadata": {},
     "output_type": "display_data"
    }
   ],
   "source": [
    "Map"
   ]
  },
  {
   "cell_type": "code",
   "execution_count": 16,
   "metadata": {},
   "outputs": [],
   "source": [
    "Map.addLayer(output,{'min':0,'max':5,'palette':['black','red','blue','yellow','green','purple']},'wlc output')"
   ]
  },
  {
   "cell_type": "markdown",
   "metadata": {},
   "source": [
    "### get dashboard stats"
   ]
  },
  {
   "cell_type": "code",
   "execution_count": 20,
   "metadata": {},
   "outputs": [
    {
     "data": {
      "text/plain": [
       "{'benefit': [{'woodfuel_harvest': {'total': [6.2153071598810605],\n",
       "    'values': [6.160226015852092]}},\n",
       "  {'plantation_growth_rates': {'total': [6.703870658466306],\n",
       "    'values': [6.614907734702729]}},\n",
       "  {'forest_job': {'total': [0.014178218332882336],\n",
       "    'values': [0.013925709551751767]}},\n",
       "  {'ground_carbon': {'total': [2.67318169360335],\n",
       "    'values': [2.6712878946802108]}},\n",
       "  {'biodiversity_intactness': {'total': [0.8837665322113594],\n",
       "    'values': [0.8785625239145877]}},\n",
       "  {'endangered_species': {'total': [4.917549363470223],\n",
       "    'values': [4.772135457736469]}}],\n",
       " 'constraint': [{'city_access': {'total': [2073183.399678905],\n",
       "    'values': [0.0]}},\n",
       "  {'ecozones': {'total': [2073183.399678905], 'values': [0.0]}},\n",
       "  {'land_cover': {'total': [2073183.399678905], 'values': [0.0]}},\n",
       "  {'protected_areas': {'total': [2073183.399678905], 'values': [0.0]}},\n",
       "  {'slope': {'total': [2073183.399678905], 'values': [0.0]}},\n",
       "  {'elevation': {'total': [2073183.399678905], 'values': [0.0]}},\n",
       "  {'natural_regeneration': {'total': [2073183.399678905], 'values': [0.0]}},\n",
       "  {'declining_population': {'total': [2073183.399678905], 'values': [0.0]}},\n",
       "  {'property_rights': {'total': [2073183.399678905], 'values': [0.0]}},\n",
       "  {'deforestation_rate': {'total': [2073183.399678905], 'values': [0.0]}},\n",
       "  {'climate_risk': {'total': [2073183.399678905], 'values': [0.0]}},\n",
       "  {'population_density': {'total': [2073183.399678905], 'values': [0.0]}},\n",
       "  {'annual_rainfall': {'total': [2073183.399678905], 'values': [0.0]}},\n",
       "  {'treecover_with_potential': {'total': [2049595.0159474616],\n",
       "    'values': [19.412169184209812]}},\n",
       "  {'water_stress': {'total': [2073183.399678905], 'values': [0.0]}}],\n",
       " 'cost': [{'opportunity_cost': {'total': [5207595601.838078],\n",
       "    'values': [4211472716.49056]}},\n",
       "  {'implementation_cost': {'total': [3276378970.7441955],\n",
       "    'values': [2641998529.1917286]}}],\n",
       " 'suitability': {'test-elsav': {'total': 2048660.1375282644,\n",
       "   'values': [{'image': 1.0, 'sum': 336315.8935347176},\n",
       "    {'image': 2.0, 'sum': 606049.4626830074},\n",
       "    {'image': 3.0, 'sum': 456641.90464255936},\n",
       "    {'image': 4.0, 'sum': 173056.50155236103},\n",
       "    {'image': 5.0, 'sum': 78891.26754155575},\n",
       "    {'image': 6.0, 'sum': 397705.10757406347}]}}}"
      ]
     },
     "execution_count": 20,
     "metadata": {},
     "output_type": "execute_result"
    }
   ],
   "source": [
    "a = scripts.get_summary_statistics(wlc, 'test-elsav', aoi, layer_list)\n",
    "json.loads(a)"
   ]
  }
 ],
 "metadata": {
  "kernelspec": {
   "display_name": "Python 3",
   "language": "python",
   "name": "python3"
  },
  "language_info": {
   "codemirror_mode": {
    "name": "ipython",
    "version": 3
   },
   "file_extension": ".py",
   "mimetype": "text/x-python",
   "name": "python",
   "nbconvert_exporter": "python",
   "pygments_lexer": "ipython3",
   "version": "3.7.4"
  }
 },
 "nbformat": 4,
 "nbformat_minor": 5
}
