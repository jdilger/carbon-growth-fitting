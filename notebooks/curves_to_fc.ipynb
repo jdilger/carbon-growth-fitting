{
 "cells": [
  {
   "cell_type": "code",
   "execution_count": 2,
   "metadata": {},
   "outputs": [],
   "source": [
    "import ee\n",
    "import geemap\n",
    "from cantor import *\n",
    "ee.Initialize()\n",
    "gez = ee.FeatureCollection(\"projects/sig-misc-ee/assets/sbp/ecofloristic_zones\")\n",
    "CONTINENTAL_REGIONS = ee.FeatureCollection(\"projects/sig-misc-ee/assets/sbp/continental_regions\")\n"
   ]
  },
  {
   "cell_type": "code",
   "execution_count": 34,
   "metadata": {},
   "outputs": [],
   "source": [
    "def carbon_growth_function(stand_age:ee.Image, paramters_stack:ee.Image):\n",
    "  #// b0(1-EXP(-b2Age))^b2\n",
    "  carbonHa = ee.Image(0).expression(\"(b0 *( 1 - exp)) ** b2\",{\n",
    "    'b0': paramters_stack.select('b0'),\n",
    "    'exp': (stand_age.multiply(paramters_stack.select('b1').multiply(-1))).exp(),\n",
    "    'b2': ee.Image(paramters_stack.select('b2'))\n",
    "  }).rename('carbon');\n",
    "  \n",
    "  return carbonHa\n",
    "\n",
    "\n",
    "def get_areas(image, geometry, scale=100):\n",
    "    \n",
    "    image = image.rename(\"image\").round()\n",
    "    pixelArea = ee.Image.pixelArea().divide(10000)\n",
    "    reducer = ee.Reducer.sum().group(1, \"image\")\n",
    "\n",
    "    areas = (\n",
    "        pixelArea.addBands(image)\n",
    "        .reduceRegion(reducer=reducer, geometry=geometry, scale=100, maxPixels=1e12)\n",
    "        .get(\"groups\")\n",
    "    )\n",
    "\n",
    "    areas_list = ee.List(areas).map(lambda i: ee.Dictionary(i).get(\"sum\"))\n",
    "\n",
    "    total = areas_list.reduce(ee.Reducer.sum())\n",
    "\n",
    "    sum_img = image.reduceRegion(\n",
    "        reducer=ee.Reducer.sum(),\n",
    "        geometry=geometry,\n",
    "        scale=100,\n",
    "        maxPixels=1e13,\n",
    "    )\n",
    "\n",
    "    return areas, total\n"
   ]
  },
  {
   "cell_type": "code",
   "execution_count": 3,
   "metadata": {},
   "outputs": [],
   "source": [
    "# gez.aggregate_array('GEZ_TERM').distinct().getInfo()\n",
    "\n",
    "humid_gez = [\n",
    "    'Tropical rainforest',\n",
    "    'Tropical moist deciduous forest'\n",
    "    'Temperate oceanic forest',\n",
    "    'Temperate continental forest',\n",
    "    'Boreal coniferous forest',\n",
    "    'Subtropical humid forest',\n",
    "]\n",
    "dry_gez = [\n",
    "    'Temperate steppe',\n",
    "    'Subtropical desert',\n",
    "    'Subtropical steppe',\n",
    "    'Tropical shrubland',\n",
    "    'Tropical dry forest',\n",
    "    'Tropical desert',\n",
    "    'Subtropical dry forest',\n",
    "    'Temperate desert',\n",
    "    'Boreal tundra woodland',\n",
    "]\n",
    "\n",
    "excluded = [ \n",
    "    'Water',\n",
    "    'No data',\n",
    "    'Polar',\n",
    "]\n",
    "unknown = [\n",
    "    'Boreal mountain system',\n",
    "    'Tropical mountain system',\n",
    "    'Subtropical mountain system',\n",
    "    'Temperate mountain system',\n",
    "]"
   ]
  },
  {
   "cell_type": "code",
   "execution_count": 4,
   "metadata": {},
   "outputs": [],
   "source": [
    "gez_map = ee.Dictionary({\n",
    "#     1 humid\n",
    "    'Tropical rainforest':1,\n",
    "    'Tropical moist deciduous forest':1,\n",
    "    'Temperate oceanic forest':1,\n",
    "    'Temperate continental forest':1,\n",
    "    'Boreal coniferous forest':1,\n",
    "    'Subtropical humid forest':1,\n",
    "#     2dry\n",
    "    'Temperate steppe':2,\n",
    "    'Subtropical desert':2,\n",
    "    'Subtropical steppe':2,\n",
    "    'Tropical shrubland':2,\n",
    "    'Tropical dry forest':2,\n",
    "    'Tropical desert':2,\n",
    "    'Subtropical dry forest':2,\n",
    "    'Temperate desert':2,\n",
    "    'Boreal tundra woodland':2,\n",
    "#     3/4 nd\n",
    "    'Water':3,\n",
    "    'No data':3,\n",
    "    'Polar':3,\n",
    "    'Boreal mountain system':4,\n",
    "    'Tropical mountain system':4,\n",
    "    'Subtropical mountain system':4,\n",
    "    'Temperate mountain system':4,\n",
    "})\n"
   ]
  },
  {
   "cell_type": "code",
   "execution_count": 5,
   "metadata": {},
   "outputs": [],
   "source": [
    "\n",
    "continental_map = ee.Dictionary({\n",
    "    'Asia':5,\n",
    "    'Asia (insular)':5,\n",
    "    'Indian Ocean':5,\n",
    "    'Australia':5,\n",
    "    'New Zealand':5,\n",
    "    \n",
    "    'Africa':4,\n",
    "    'Europe':3,\n",
    "    'South America':2,\n",
    "    'North America':1,\n",
    "    \n",
    "\n",
    "    \n",
    "    'Pacific Ocean':6,\n",
    "    'Atlantic Ocean':6,\n",
    "    'Antarctica':6,\n",
    "    'Arctic Ocean':6,\n",
    "})\n"
   ]
  },
  {
   "cell_type": "code",
   "execution_count": 42,
   "metadata": {},
   "outputs": [
    {
     "name": "stdout",
     "output_type": "stream",
     "text": [
      "{'REGION': 'Asia', 'continential_code': 5}\n"
     ]
    }
   ],
   "source": [
    "gez_region_code = gez.map(lambda f: f.set('climate_code', gez_map.get(f.get('GEZ_TERM'))))\n",
    "continential_region_code = CONTINENTAL_REGIONS.map(lambda f: f.set('continential_code', continental_map.get(f.get('REGION'))))\n",
    "print(continential_region_code.first().getInfo()['properties'])\n",
    "empt = ee.Image()\n",
    "gez_region_img = empt.paint(gez_region_code,'climate_code')\n",
    "continential_region_img = empt.paint(continential_region_code,'continential_code')\n",
    "paired = eePair(gez_region_img, continential_region_img).int()"
   ]
  },
  {
   "cell_type": "code",
   "execution_count": 43,
   "metadata": {},
   "outputs": [
    {
     "data": {
      "application/vnd.jupyter.widget-view+json": {
       "model_id": "7d76c569e98b44f88732d7b02e3114f8",
       "version_major": 2,
       "version_minor": 0
      },
      "text/plain": [
       "Map(center=[20, 0], controls=(WidgetControl(options=['position', 'transparent_bg'], widget=HBox(children=(Togg…"
      ]
     },
     "metadata": {},
     "output_type": "display_data"
    }
   ],
   "source": [
    "Map = geemap.Map()\n",
    "Map.addLayer(CONTINENTAL_REGIONS)\n",
    "Map.addLayer(gez_region_img)\n",
    "Map.addLayer(continential_region_img)\n",
    "Map.addLayer(paired)\n",
    "Map"
   ]
  },
  {
   "cell_type": "code",
   "execution_count": 44,
   "metadata": {
    "tags": []
   },
   "outputs": [
    {
     "name": "stdout",
     "output_type": "stream",
     "text": [
      "24\n"
     ]
    }
   ],
   "source": [
    "aoi = ee.FeatureCollection(Map.draw_last_feature)\n",
    "samples = paired.int().stratifiedSample(numPoints=1, region=aoi, scale=1000)\n",
    "print(samples.size().getInfo())\n",
    "\n",
    "\n",
    "                                  "
   ]
  },
  {
   "cell_type": "code",
   "execution_count": 10,
   "metadata": {},
   "outputs": [
    {
     "name": "stdout",
     "output_type": "stream",
     "text": [
      "[(1.0, 1.0), (2.0, 1.0), (1.0, 2.0), (3.0, 1.0), (2.0, 2.0), (1.0, 3.0), (4.0, 1.0), (3.0, 2.0), (2.0, 3.0), (1.0, 4.0), (4.0, 2.0), (3.0, 3.0), (2.0, 4.0), (1.0, 5.0), (4.0, 3.0), (3.0, 4.0), (2.0, 5.0), (1.0, 6.0), (4.0, 4.0), (3.0, 5.0), (2.0, 6.0), (4.0, 5.0), (3.0, 6.0), (4.0, 6.0)]\n",
      "[4, 7, 8, 11, 12, 13, 16, 17, 18, 19, 23, 24, 25, 26, 31, 32, 33, 34, 40, 41, 42, 50, 51, 61]\n"
     ]
    }
   ],
   "source": [
    "uvalues = samples.aggregate_array('constant').distinct().getInfo()\n",
    "print(list(map(depair, uvalues)))\n",
    "print(uvalues)\n",
    "# test = paired.remap([4, 7, 8, 11, 12, 13, 16, 17, 18, 19, 23, 24, 25, 26, 31, 32, 33, 34, 40, 41, 42, 50, 51, 61],\n",
    "#                       [1, 1, 1, 1,  1,  1,  1,  1,  1,  1,  1,  1,  1,  1,  1,  1,  1,  1,  1,  1,  1,  1,  1,  1])\n",
    "# Map.addLayer(test)"
   ]
  },
  {
   "cell_type": "code",
   "execution_count": 11,
   "metadata": {},
   "outputs": [
    {
     "data": {
      "text/plain": [
       "[(4, {'gez': 'humid', 'con': 'north amrc'}),\n",
       " (7, {'gez': 'dry', 'con': 'north amrc'}),\n",
       " (8, {'gez': 'humid', 'con': 'south amrc'}),\n",
       " (11, {'gez': 'na', 'con': 'north amrc'}),\n",
       " (12, {'gez': 'dry', 'con': 'south amrc'}),\n",
       " (13, {'gez': 'humid', 'con': 'europe'}),\n",
       " (16, {'gez': 'na', 'con': 'north amrc'}),\n",
       " (17, {'gez': 'na', 'con': 'south amrc'}),\n",
       " (18, {'gez': 'dry', 'con': 'europe'}),\n",
       " (19, {'gez': 'humid', 'con': 'africa'}),\n",
       " (23, {'gez': 'na', 'con': 'south amrc'}),\n",
       " (24, {'gez': 'na', 'con': 'europe'}),\n",
       " (25, {'gez': 'dry', 'con': 'africa'}),\n",
       " (26, {'gez': 'humid', 'con': 'asia'}),\n",
       " (31, {'gez': 'na', 'con': 'europe'}),\n",
       " (32, {'gez': 'na', 'con': 'africa'}),\n",
       " (33, {'gez': 'dry', 'con': 'asia'}),\n",
       " (34, {'gez': 'humid', 'con': 'na'}),\n",
       " (40, {'gez': 'na', 'con': 'africa'}),\n",
       " (41, {'gez': 'na', 'con': 'asia'}),\n",
       " (42, {'gez': 'dry', 'con': 'na'}),\n",
       " (50, {'gez': 'na', 'con': 'asia'}),\n",
       " (51, {'gez': 'na', 'con': 'na'}),\n",
       " (61, {'gez': 'na', 'con': 'na'})]"
      ]
     },
     "execution_count": 11,
     "metadata": {},
     "output_type": "execute_result"
    }
   ],
   "source": [
    "con_cs = {\n",
    "    '5':'asia',\n",
    "    '4':'africa',\n",
    "    '3':'europe',\n",
    "    '2':'south amrc',\n",
    "    '1':'north amrc',\n",
    "    '6':'na'\n",
    "}\n",
    "gez_cs = {\n",
    "    '1':'humid',\n",
    "    '2':'dry'\n",
    "    # '3':'na',\n",
    "    \n",
    "}\n",
    "dp = list(map(depair, uvalues))\n",
    "# manually update \"code\" field in carbon.json based on values. \n",
    "dp = [{'gez':gez_cs.get(str(int(i[0])),'na'), 'con':con_cs.get(str(int(i[1])),'na')} for i in dp]\n",
    "zipd = zip(uvalues,dp)\n",
    "list(zipd)"
   ]
  },
  {
   "cell_type": "code",
   "execution_count": 46,
   "metadata": {},
   "outputs": [
    {
     "name": "stdout",
     "output_type": "stream",
     "text": [
      "{'name': 'Natural Asia Dry', 'parameters': [6.952180603672807, 0.07708632118229979, 2.155374937783795], 'code': 33}\n",
      "{'name': 'Natural Asia Humid', 'parameters': [22.20201288628687, 0.08282659433268577, 1.6575632681092896], 'code': 26}\n",
      "{'name': 'Natural Euro Humid Dry', 'parameters': [6.673966194081617, 0.06740175651808789, 2.25457077327527], 'code': 18}\n",
      "{'name': 'Natural Euro Humid Dry', 'parameters': [6.673966194081617, 0.06740175651808789, 2.25457077327527], 'code': 13, 'note': 'repeat since Europe curve is for both humid and dry.'}\n",
      "{'name': 'Natural Afica Humid', 'parameters': [9.00912152868533, 0.06691874765644773, 2.2140421801368606], 'code': 19}\n",
      "{'name': 'Central America Dry', 'parameters': [8.66429742100409, 0.2096291437364193, 1.7082408651411614], 'code': 7}\n",
      "{'name': 'Central America Humid', 'parameters': [8.461890294323121, 0.056914894706377964, 2.17789147266434], 'code': 4}\n",
      "{'name': 'South America Dry', 'parameters': [7.387321640157009, 0.09216975743131285, 2.1575324061267205], 'code': 12}\n",
      "{'name': 'South America Humid', 'parameters': [2.479989225520437, 0.12579472538348987, 5.180809811711873], 'code': 8}\n"
     ]
    }
   ],
   "source": [
    "import json\n",
    "# inputs, json path, paired img\n",
    "path = r'C:\\Users\\johnj\\Documents\\SIG\\19.restoration-fao\\2022_seplan\\notebooks\\carbon.json'\n",
    "# paired\n",
    "with open(path) as json_file:\n",
    "    data = json.load(json_file)\n",
    "data\n",
    "\n",
    "# make images of coefs\n",
    "# update base img where code\n",
    "# area * value\n",
    "out = ee.Image(0)\n",
    "for k, v in data.items():\n",
    "    print(v)\n",
    "    coe1, coe2, coe3 = v['parameters']\n",
    "    coe_stack = ee.Image.cat([ee.Image(coe1), ee.Image(coe2), ee.Image(coe3)]).select([0,1,2],['b0','b1','b2'])\n",
    "    v['carbon_40y'] = carbon_growth_function(ee.Image(40), coe_stack)\n",
    "    t = carbon_growth_function_center(ee.Image(100), coe_stack)\n",
    "    out = out.where(paired.eq(v['code']), v['carbon_40y'])\n",
    "\n",
    "\n",
    "pixelArea = ee.Image.pixelArea().divide(10000)\n",
    "Map.addLayer(out.selfMask(),{},'final maps?')\n",
    "Map.addLayer(out.multiply(pixelArea),{},'AGB')"
   ]
  },
  {
   "cell_type": "code",
   "execution_count": 41,
   "metadata": {},
   "outputs": [
    {
     "name": "stdout",
     "output_type": "stream",
     "text": [
      "[{'image': 0, 'sum': 20656373.800121263}, {'image': 75, 'sum': 52594.46942112582}, {'image': 111, 'sum': 202751796.02882567}]\n",
      "223460764.29836807\n"
     ]
    }
   ],
   "source": [
    "image = out.multiply(pixelArea)\n",
    "geometry = ee.FeatureCollection(Map.draw_last_feature)\n",
    "areas = (\n",
    "    pixelArea.addBands(image)\n",
    "    .reduceRegion(reducer=ee.Reducer.sum(), geometry=geometry, scale=100, maxPixels=1e12)\n",
    "    # .get(\"groups\")\n",
    ")\n",
    "\n",
    "areas, total = get_areas(out,  ee.FeatureCollection(Map.draw_last_feature))\n",
    "print(areas.getInfo())\n",
    "print(total.getInfo())"
   ]
  }
 ],
 "metadata": {
  "kernelspec": {
   "display_name": "Python 3 (ipykernel)",
   "language": "python",
   "name": "python3"
  },
  "language_info": {
   "codemirror_mode": {
    "name": "ipython",
    "version": 3
   },
   "file_extension": ".py",
   "mimetype": "text/x-python",
   "name": "python",
   "nbconvert_exporter": "python",
   "pygments_lexer": "ipython3",
   "version": "3.8.13"
  }
 },
 "nbformat": 4,
 "nbformat_minor": 4
}
